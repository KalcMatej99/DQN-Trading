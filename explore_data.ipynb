{
 "cells": [
  {
   "cell_type": "code",
   "execution_count": 4,
   "metadata": {},
   "outputs": [],
   "source": [
    "import matplotlib.pyplot as plt\n",
    "import pandas as pd\n",
    "import numpy as np\n",
    "import seaborn as sb\n"
   ]
  },
  {
   "cell_type": "code",
   "execution_count": null,
   "metadata": {},
   "outputs": [],
   "source": [
    "\n",
    "\n",
    "df = pd.read_csv(\"Data/BTC_USDT_1h/data_processed.csv\")\n",
    "print(len(df.columns))\n",
    "print(df[\"macd\"])\n",
    "print(df[np.isnan(df[\"macd\"])].index)\n",
    "print(df[np.isnan(df[\"macd\"])].mean())"
   ]
  },
  {
   "cell_type": "code",
   "execution_count": 8,
   "metadata": {},
   "outputs": [],
   "source": [
    "corr = df.corr()\n",
    "\n",
    "plt.figure(figsize=(15, 15))\n",
    "sb.heatmap(corr, cmap=\"coolwarm\")\n",
    "plt.show()"
   ]
  }
 ],
 "metadata": {
  "interpreter": {
   "hash": "30e4cd7ecdca67749fb54f243785ea29109e0eb7f8e9bd5aca27a4c39a2fd313"
  },
  "kernelspec": {
   "display_name": "Python 3.9.7 64-bit ('dqn-trading': venv)",
   "language": "python",
   "name": "python3"
  },
  "language_info": {
   "codemirror_mode": {
    "name": "ipython",
    "version": 3
   },
   "file_extension": ".py",
   "mimetype": "text/x-python",
   "name": "python",
   "nbconvert_exporter": "python",
   "pygments_lexer": "ipython3",
   "version": "3.9.7"
  },
  "orig_nbformat": 4
 },
 "nbformat": 4,
 "nbformat_minor": 2
}
