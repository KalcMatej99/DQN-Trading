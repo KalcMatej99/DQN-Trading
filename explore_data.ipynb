{
 "cells": [
  {
   "cell_type": "code",
   "execution_count": 9,
   "metadata": {},
   "outputs": [
    {
     "name": "stdout",
     "output_type": "stream",
     "text": [
      "0              NaN\n",
      "1              NaN\n",
      "2              NaN\n",
      "3              NaN\n",
      "4              NaN\n",
      "           ...    \n",
      "38857   -38.363134\n",
      "38858   -32.482528\n",
      "38859   -25.285075\n",
      "38860   -18.659941\n",
      "38861   -16.567644\n",
      "Name: macd, Length: 38862, dtype: float64\n",
      "Int64Index([ 0,  1,  2,  3,  4,  5,  6,  7,  8,  9, 10, 11, 12, 13, 14, 15, 16,\n",
      "            17, 18, 19, 20, 21, 22, 23, 24, 25, 26, 27, 28, 29, 30, 31, 32],\n",
      "           dtype='int64')\n"
     ]
    }
   ],
   "source": [
    "import pandas as pd\n",
    "import numpy as np\n",
    "\n",
    "df = pd.read_csv(\"Data/BTC_USDT_1h/data_processed.csv\")\n",
    "print(df[\"macd\"])\n",
    "print(df[np.isnan(df[\"macd\"])].index)"
   ]
  }
 ],
 "metadata": {
  "interpreter": {
   "hash": "30e4cd7ecdca67749fb54f243785ea29109e0eb7f8e9bd5aca27a4c39a2fd313"
  },
  "kernelspec": {
   "display_name": "Python 3.9.7 64-bit ('dqn-trading': venv)",
   "language": "python",
   "name": "python3"
  },
  "language_info": {
   "codemirror_mode": {
    "name": "ipython",
    "version": 3
   },
   "file_extension": ".py",
   "mimetype": "text/x-python",
   "name": "python",
   "nbconvert_exporter": "python",
   "pygments_lexer": "ipython3",
   "version": "3.9.7"
  },
  "orig_nbformat": 4
 },
 "nbformat": 4,
 "nbformat_minor": 2
}
